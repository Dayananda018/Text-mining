{
 "cells": [
  {
   "cell_type": "code",
   "execution_count": 1,
   "id": "5da65ccf",
   "metadata": {},
   "outputs": [],
   "source": [
    "from bs4 import BeautifulSoup as bs #Beautiful Soup is a Python library for pulling data out of HTML and XML files.\n",
    "import requests "
   ]
  },
  {
   "cell_type": "code",
   "execution_count": 10,
   "id": "13f311cf",
   "metadata": {},
   "outputs": [
    {
     "name": "stdout",
     "output_type": "stream",
     "text": [
      "Requirement already satisfied: nltk in c:\\users\\lenovo\\anaconda3\\lib\\site-packages (3.6.5)\n",
      "Requirement already satisfied: click in c:\\users\\lenovo\\anaconda3\\lib\\site-packages (from nltk) (8.0.3)\n",
      "Requirement already satisfied: joblib in c:\\users\\lenovo\\anaconda3\\lib\\site-packages (from nltk) (1.1.0)\n",
      "Requirement already satisfied: regex>=2021.8.3 in c:\\users\\lenovo\\anaconda3\\lib\\site-packages (from nltk) (2021.8.3)\n",
      "Requirement already satisfied: tqdm in c:\\users\\lenovo\\anaconda3\\lib\\site-packages (from nltk) (4.62.3)\n",
      "Requirement already satisfied: colorama in c:\\users\\lenovo\\anaconda3\\lib\\site-packages (from click->nltk) (0.4.4)\n"
     ]
    },
    {
     "name": "stderr",
     "output_type": "stream",
     "text": [
      "[nltk_data] Downloading package stopwords to\n",
      "[nltk_data]     C:\\Users\\Lenovo\\AppData\\Roaming\\nltk_data...\n",
      "[nltk_data]   Package stopwords is already up-to-date!\n"
     ]
    },
    {
     "data": {
      "text/plain": [
       "True"
      ]
     },
     "execution_count": 10,
     "metadata": {},
     "output_type": "execute_result"
    }
   ],
   "source": [
    "import pandas as pd\n",
    "import numpy as np\n",
    "import matplotlib.pyplot as plt\n",
    "import seaborn as sns\n",
    "sns.set_style('white')\n",
    "import nltk\n",
    "from nltk.corpus import stopwords\n",
    "from nltk import ngrams\n",
    "from nltk.tokenize import word_tokenize\n",
    "from textblob import TextBlob, Word, Blobber\n",
    "import wordcloud\n",
    "from wordcloud import WordCloud\n",
    "from nltk.stem import WordNetLemmatizer\n",
    "lemmatizer=WordNetLemmatizer()\n",
    "!pip install nltk\n",
    "nltk.download('stopwords')"
   ]
  },
  {
   "cell_type": "code",
   "execution_count": 2,
   "id": "2b47afec",
   "metadata": {},
   "outputs": [],
   "source": [
    "bt='https://www.amazon.in'\n",
    "ul='https://www.amazon.in/gp/aw/reviews/B09G9BQS98/ref=cm_cr_dp_mb_top?ie=UTF8'"
   ]
  },
  {
   "cell_type": "code",
   "execution_count": 3,
   "id": "408b9895",
   "metadata": {},
   "outputs": [],
   "source": [
    "cust_name = []   #define list to store Name of the customers\n",
    "review_title = []\n",
    "rate = []\n",
    "review_content = []"
   ]
  },
  {
   "cell_type": "code",
   "execution_count": 4,
   "id": "e7385c2e",
   "metadata": {},
   "outputs": [],
   "source": [
    "tt = 0\n",
    "while tt == 0:\n",
    "    page = requests.get(ul)\n",
    "    while page.ok == False:#if it fails to connect then this loop will be executing continuously until get response from site  \n",
    "        page = requests.get(ul)\n",
    "   \n",
    "\n",
    "    soup = bs(page.content,'html.parser')\n",
    "    soup.prettify()       #Prettify() function in BeautifulSoup will enable us to view how the tags are nested in the document.\n",
    "    \n",
    "    names = soup.find_all('span', class_='a-profile-name')\n",
    "    names.pop(0)\n",
    "    names.pop(0)\n",
    "    \n",
    "    for i in range(0,len(names)):\n",
    "        cust_name.append(names[i].get_text())\n",
    "        \n",
    "    title = soup.find_all(\"a\",{\"data-hook\":\"review-title\"})\n",
    "    for i in range(0,len(title)):\n",
    "        review_title.append(title[i].get_text())\n",
    "\n",
    "    rating = soup.find_all('i',class_='review-rating')\n",
    "    rating.pop(0)\n",
    "    rating.pop(0)\n",
    "    for i in range(0,len(rating)):\n",
    "        rate.append(rating[i].get_text())\n",
    "\n",
    "    review = soup.find_all(\"span\",{\"data-hook\":\"review-body\"})\n",
    "    for i in range(0,len(review)):\n",
    "        review_content.append(review[i].get_text())\n",
    "        \n",
    "    try:\n",
    "        for div in soup.findAll('li', attrs={'class':'a-last'}):\n",
    "            A = div.find('a')['href']\n",
    "        ul = bt + A\n",
    "    except:\n",
    "        break"
   ]
  },
  {
   "cell_type": "code",
   "execution_count": 5,
   "id": "d5fb1e8f",
   "metadata": {},
   "outputs": [
    {
     "data": {
      "text/plain": [
       "1241"
      ]
     },
     "execution_count": 5,
     "metadata": {},
     "output_type": "execute_result"
    }
   ],
   "source": [
    "len(cust_name)"
   ]
  },
  {
   "cell_type": "code",
   "execution_count": 6,
   "id": "efbd4487",
   "metadata": {},
   "outputs": [
    {
     "data": {
      "text/plain": [
       "983"
      ]
     },
     "execution_count": 6,
     "metadata": {},
     "output_type": "execute_result"
    }
   ],
   "source": [
    "len(review_title)"
   ]
  },
  {
   "cell_type": "code",
   "execution_count": 7,
   "id": "5e724b1b",
   "metadata": {},
   "outputs": [
    {
     "data": {
      "text/plain": [
       "983"
      ]
     },
     "execution_count": 7,
     "metadata": {},
     "output_type": "execute_result"
    }
   ],
   "source": [
    "len(review_content)"
   ]
  },
  {
   "cell_type": "code",
   "execution_count": 8,
   "id": "79bf5c6f",
   "metadata": {},
   "outputs": [
    {
     "data": {
      "text/plain": [
       "983"
      ]
     },
     "execution_count": 8,
     "metadata": {},
     "output_type": "execute_result"
    }
   ],
   "source": [
    "len(rate)"
   ]
  },
  {
   "cell_type": "code",
   "execution_count": 9,
   "id": "cccd9db5",
   "metadata": {},
   "outputs": [],
   "source": [
    "review_title[:] = [titles.lstrip('\\n') for titles in review_title]\n",
    "\n",
    "review_title[:] = [titles.rstrip('\\n') for titles in review_title]\n",
    "\n",
    "review_content[:] = [titles.lstrip('\\n') for titles in review_content]\n",
    "\n",
    "review_content[:] = [titles.rstrip('\\n') for titles in review_content]"
   ]
  },
  {
   "cell_type": "code",
   "execution_count": 11,
   "id": "6f9e8294",
   "metadata": {},
   "outputs": [],
   "source": [
    "df = pd.DataFrame()"
   ]
  },
  {
   "cell_type": "code",
   "execution_count": 12,
   "id": "558f7fc0",
   "metadata": {},
   "outputs": [],
   "source": [
    "df['Review Title'] = review_title\n",
    "df['Rating'] = rate\n",
    "df['Reviews'] = review_content"
   ]
  },
  {
   "cell_type": "code",
   "execution_count": 13,
   "id": "badbc917",
   "metadata": {},
   "outputs": [
    {
     "data": {
      "text/html": [
       "<div>\n",
       "<style scoped>\n",
       "    .dataframe tbody tr th:only-of-type {\n",
       "        vertical-align: middle;\n",
       "    }\n",
       "\n",
       "    .dataframe tbody tr th {\n",
       "        vertical-align: top;\n",
       "    }\n",
       "\n",
       "    .dataframe thead th {\n",
       "        text-align: right;\n",
       "    }\n",
       "</style>\n",
       "<table border=\"1\" class=\"dataframe\">\n",
       "  <thead>\n",
       "    <tr style=\"text-align: right;\">\n",
       "      <th></th>\n",
       "      <th>Review Title</th>\n",
       "      <th>Rating</th>\n",
       "      <th>Reviews</th>\n",
       "    </tr>\n",
       "  </thead>\n",
       "  <tbody>\n",
       "    <tr>\n",
       "      <th>0</th>\n",
       "      <td>Do not purchase this I phone</td>\n",
       "      <td>1.0 out of 5 stars</td>\n",
       "      <td>This product is duplicate of iPhone 12 only ca...</td>\n",
       "    </tr>\n",
       "    <tr>\n",
       "      <th>1</th>\n",
       "      <td>Damaged product received</td>\n",
       "      <td>1.0 out of 5 stars</td>\n",
       "      <td>There was a hairline scratch on the screen whi...</td>\n",
       "    </tr>\n",
       "    <tr>\n",
       "      <th>2</th>\n",
       "      <td>😂😂😂😂</td>\n",
       "      <td>1.0 out of 5 stars</td>\n",
       "      <td>You should be a bigggggg bot to buy this phone...</td>\n",
       "    </tr>\n",
       "    <tr>\n",
       "      <th>3</th>\n",
       "      <td>Excellent upgrade in context of being 90k poorer.</td>\n",
       "      <td>1.0 out of 5 stars</td>\n",
       "      <td>Just but iphone 12!It’s not worth the money!Un...</td>\n",
       "    </tr>\n",
       "    <tr>\n",
       "      <th>4</th>\n",
       "      <td>trash af</td>\n",
       "      <td>1.0 out of 5 stars</td>\n",
       "      <td>i am poor and i cant afford it lmao xdxdxdxdxd...</td>\n",
       "    </tr>\n",
       "  </tbody>\n",
       "</table>\n",
       "</div>"
      ],
      "text/plain": [
       "                                        Review Title              Rating  \\\n",
       "0                       Do not purchase this I phone  1.0 out of 5 stars   \n",
       "1                           Damaged product received  1.0 out of 5 stars   \n",
       "2                                               😂😂😂😂  1.0 out of 5 stars   \n",
       "3  Excellent upgrade in context of being 90k poorer.  1.0 out of 5 stars   \n",
       "4                                           trash af  1.0 out of 5 stars   \n",
       "\n",
       "                                             Reviews  \n",
       "0  This product is duplicate of iPhone 12 only ca...  \n",
       "1  There was a hairline scratch on the screen whi...  \n",
       "2  You should be a bigggggg bot to buy this phone...  \n",
       "3  Just but iphone 12!It’s not worth the money!Un...  \n",
       "4  i am poor and i cant afford it lmao xdxdxdxdxd...  "
      ]
     },
     "execution_count": 13,
     "metadata": {},
     "output_type": "execute_result"
    }
   ],
   "source": [
    "df.head()"
   ]
  },
  {
   "cell_type": "code",
   "execution_count": 14,
   "id": "59776a61",
   "metadata": {},
   "outputs": [],
   "source": [
    "df.to_csv(r'E:fill.csv',index = True)"
   ]
  },
  {
   "cell_type": "code",
   "execution_count": 15,
   "id": "6c7a4cf6",
   "metadata": {},
   "outputs": [],
   "source": [
    "ta = pd.read_csv(\"E:fill.csv\",index_col=[0])"
   ]
  },
  {
   "cell_type": "code",
   "execution_count": 18,
   "id": "2edccc87",
   "metadata": {},
   "outputs": [],
   "source": [
    "data = pd.read_csv(\"E:fill.csv\",index_col=[0])"
   ]
  },
  {
   "cell_type": "code",
   "execution_count": 20,
   "id": "ccea7646",
   "metadata": {},
   "outputs": [
    {
     "data": {
      "text/plain": [
       "Review Title    object\n",
       "Rating          object\n",
       "Reviews         object\n",
       "dtype: object"
      ]
     },
     "execution_count": 20,
     "metadata": {},
     "output_type": "execute_result"
    }
   ],
   "source": [
    "data.dtypes"
   ]
  },
  {
   "cell_type": "code",
   "execution_count": 21,
   "id": "18226fb7",
   "metadata": {},
   "outputs": [
    {
     "data": {
      "text/plain": [
       "0      1.0\n",
       "1      1.0\n",
       "2      1.0\n",
       "3      1.0\n",
       "4      1.0\n",
       "      ... \n",
       "978    5.0\n",
       "979    5.0\n",
       "980    5.0\n",
       "981    5.0\n",
       "982    4.0\n",
       "Name: Rating, Length: 983, dtype: object"
      ]
     },
     "execution_count": 21,
     "metadata": {},
     "output_type": "execute_result"
    }
   ],
   "source": [
    "data['Rating'] = [titles.rstrip(' out of 5 stars') for titles in data['Rating']]\n",
    "data['Rating']"
   ]
  },
  {
   "cell_type": "code",
   "execution_count": 23,
   "id": "1adfc201",
   "metadata": {},
   "outputs": [
    {
     "data": {
      "text/plain": [
       "5.0    71.007121\n",
       "1.0    12.309257\n",
       "4.0    10.986775\n",
       "3.0     3.560529\n",
       "2.0     2.136317\n",
       "Name: Rating, dtype: float64"
      ]
     },
     "execution_count": 23,
     "metadata": {},
     "output_type": "execute_result"
    }
   ],
   "source": [
    "data['Rating'].value_counts(normalize=True)*100"
   ]
  },
  {
   "cell_type": "code",
   "execution_count": 24,
   "id": "ad06283b",
   "metadata": {},
   "outputs": [
    {
     "data": {
      "text/html": [
       "<div>\n",
       "<style scoped>\n",
       "    .dataframe tbody tr th:only-of-type {\n",
       "        vertical-align: middle;\n",
       "    }\n",
       "\n",
       "    .dataframe tbody tr th {\n",
       "        vertical-align: top;\n",
       "    }\n",
       "\n",
       "    .dataframe thead th {\n",
       "        text-align: right;\n",
       "    }\n",
       "</style>\n",
       "<table border=\"1\" class=\"dataframe\">\n",
       "  <thead>\n",
       "    <tr style=\"text-align: right;\">\n",
       "      <th></th>\n",
       "      <th>Review Title</th>\n",
       "      <th>Reviews</th>\n",
       "    </tr>\n",
       "    <tr>\n",
       "      <th>Rating</th>\n",
       "      <th></th>\n",
       "      <th></th>\n",
       "    </tr>\n",
       "  </thead>\n",
       "  <tbody>\n",
       "    <tr>\n",
       "      <th>1.0</th>\n",
       "      <td>121</td>\n",
       "      <td>115</td>\n",
       "    </tr>\n",
       "    <tr>\n",
       "      <th>2.0</th>\n",
       "      <td>21</td>\n",
       "      <td>21</td>\n",
       "    </tr>\n",
       "    <tr>\n",
       "      <th>3.0</th>\n",
       "      <td>35</td>\n",
       "      <td>32</td>\n",
       "    </tr>\n",
       "    <tr>\n",
       "      <th>4.0</th>\n",
       "      <td>108</td>\n",
       "      <td>99</td>\n",
       "    </tr>\n",
       "    <tr>\n",
       "      <th>5.0</th>\n",
       "      <td>698</td>\n",
       "      <td>641</td>\n",
       "    </tr>\n",
       "  </tbody>\n",
       "</table>\n",
       "</div>"
      ],
      "text/plain": [
       "        Review Title  Reviews\n",
       "Rating                       \n",
       "1.0              121      115\n",
       "2.0               21       21\n",
       "3.0               35       32\n",
       "4.0              108       99\n",
       "5.0              698      641"
      ]
     },
     "execution_count": 24,
     "metadata": {},
     "output_type": "execute_result"
    }
   ],
   "source": [
    "ratings=data.groupby(['Rating']).count()\n",
    "ratings"
   ]
  },
  {
   "cell_type": "code",
   "execution_count": 25,
   "id": "369661a4",
   "metadata": {},
   "outputs": [
    {
     "data": {
      "text/plain": [
       "Text(0, 0.5, 'Count')"
      ]
     },
     "execution_count": 25,
     "metadata": {},
     "output_type": "execute_result"
    },
    {
     "data": {
      "image/png": "[encoded data removed]",
      "text/plain": [
       "<Figure size 864x576 with 1 Axes>"
      ]
     },
     "metadata": {},
     "output_type": "display_data"
    }
   ],
   "source": [
    "plt.figure(figsize=(12,8))\n",
    "data['Rating'].value_counts().sort_index().plot(kind='bar')\n",
    "plt.title('Distribution of Rating')\n",
    "plt.xlabel('Rating')\n",
    "plt.ylabel('Count')"
   ]
  },
  {
   "cell_type": "code",
   "execution_count": 26,
   "id": "3abeec59",
   "metadata": {},
   "outputs": [
    {
     "data": {
      "text/plain": [
       "Text(0, 0.5, 'Count')"
      ]
     },
     "execution_count": 26,
     "metadata": {},
     "output_type": "execute_result"
    },
    {
     "data": {
      "image/png": "[encoded data removed]",
      "text/plain": [
       "<Figure size 432x288 with 1 Axes>"
      ]
     },
     "metadata": {},
     "output_type": "display_data"
    }
   ],
   "source": [
    "data.Rating.hist()\n",
    "data.Rating.hist(bins=10)\n",
    "plt.xlabel('Rating')\n",
    "plt.ylabel('Count')"
   ]
  },
  {
   "cell_type": "code",
   "execution_count": 28,
   "id": "2549b6c0",
   "metadata": {},
   "outputs": [
    {
     "data": {
      "text/html": [
       "<div>\n",
       "<style scoped>\n",
       "    .dataframe tbody tr th:only-of-type {\n",
       "        vertical-align: middle;\n",
       "    }\n",
       "\n",
       "    .dataframe tbody tr th {\n",
       "        vertical-align: top;\n",
       "    }\n",
       "\n",
       "    .dataframe thead th {\n",
       "        text-align: right;\n",
       "    }\n",
       "</style>\n",
       "<table border=\"1\" class=\"dataframe\">\n",
       "  <thead>\n",
       "    <tr style=\"text-align: right;\">\n",
       "      <th></th>\n",
       "      <th>Reviews</th>\n",
       "    </tr>\n",
       "  </thead>\n",
       "  <tbody>\n",
       "    <tr>\n",
       "      <th>0</th>\n",
       "      <td>This product is duplicate of iPhone 12 only ca...</td>\n",
       "    </tr>\n",
       "    <tr>\n",
       "      <th>1</th>\n",
       "      <td>There was a hairline scratch on the screen whi...</td>\n",
       "    </tr>\n",
       "    <tr>\n",
       "      <th>2</th>\n",
       "      <td>You should be a bigggggg bot to buy this phone...</td>\n",
       "    </tr>\n",
       "    <tr>\n",
       "      <th>3</th>\n",
       "      <td>Just but iphone 12!It’s not worth the money!Un...</td>\n",
       "    </tr>\n",
       "    <tr>\n",
       "      <th>4</th>\n",
       "      <td>i am poor and i cant afford it lmao xdxdxdxdxd...</td>\n",
       "    </tr>\n",
       "    <tr>\n",
       "      <th>...</th>\n",
       "      <td>...</td>\n",
       "    </tr>\n",
       "    <tr>\n",
       "      <th>978</th>\n",
       "      <td>Best Secured MobileBest in all fields.But cost...</td>\n",
       "    </tr>\n",
       "    <tr>\n",
       "      <th>979</th>\n",
       "      <td>NaN</td>\n",
       "    </tr>\n",
       "    <tr>\n",
       "      <th>980</th>\n",
       "      <td>5 out of 5 rating</td>\n",
       "    </tr>\n",
       "    <tr>\n",
       "      <th>981</th>\n",
       "      <td>Don't have an fingerprint reader,charging adap...</td>\n",
       "    </tr>\n",
       "    <tr>\n",
       "      <th>982</th>\n",
       "      <td>Awesome phoneCamera quality not better than 1+</td>\n",
       "    </tr>\n",
       "  </tbody>\n",
       "</table>\n",
       "<p>983 rows × 1 columns</p>\n",
       "</div>"
      ],
      "text/plain": [
       "                                               Reviews\n",
       "0    This product is duplicate of iPhone 12 only ca...\n",
       "1    There was a hairline scratch on the screen whi...\n",
       "2    You should be a bigggggg bot to buy this phone...\n",
       "3    Just but iphone 12!It’s not worth the money!Un...\n",
       "4    i am poor and i cant afford it lmao xdxdxdxdxd...\n",
       "..                                                 ...\n",
       "978  Best Secured MobileBest in all fields.But cost...\n",
       "979                                                NaN\n",
       "980                                  5 out of 5 rating\n",
       "981  Don't have an fingerprint reader,charging adap...\n",
       "982     Awesome phoneCamera quality not better than 1+\n",
       "\n",
       "[983 rows x 1 columns]"
      ]
     },
     "execution_count": 28,
     "metadata": {},
     "output_type": "execute_result"
    }
   ],
   "source": [
    "data.iloc[:,[2]]"
   ]
  },
  {
   "cell_type": "code",
   "execution_count": 29,
   "id": "4215eaae",
   "metadata": {},
   "outputs": [],
   "source": [
    "Reviews=data.iloc[:,[2]]"
   ]
  },
  {
   "cell_type": "code",
   "execution_count": 30,
   "id": "7d4225e4",
   "metadata": {},
   "outputs": [
    {
     "data": {
      "text/plain": [
       "(983, 1)"
      ]
     },
     "execution_count": 30,
     "metadata": {},
     "output_type": "execute_result"
    }
   ],
   "source": [
    "Reviews.shape"
   ]
  },
  {
   "cell_type": "code",
   "execution_count": 31,
   "id": "bade8a83",
   "metadata": {},
   "outputs": [
    {
     "data": {
      "text/html": [
       "<div>\n",
       "<style scoped>\n",
       "    .dataframe tbody tr th:only-of-type {\n",
       "        vertical-align: middle;\n",
       "    }\n",
       "\n",
       "    .dataframe tbody tr th {\n",
       "        vertical-align: top;\n",
       "    }\n",
       "\n",
       "    .dataframe thead th {\n",
       "        text-align: right;\n",
       "    }\n",
       "</style>\n",
       "<table border=\"1\" class=\"dataframe\">\n",
       "  <thead>\n",
       "    <tr style=\"text-align: right;\">\n",
       "      <th></th>\n",
       "      <th>Reviews</th>\n",
       "    </tr>\n",
       "  </thead>\n",
       "  <tbody>\n",
       "    <tr>\n",
       "      <th>count</th>\n",
       "      <td>908</td>\n",
       "    </tr>\n",
       "    <tr>\n",
       "      <th>unique</th>\n",
       "      <td>852</td>\n",
       "    </tr>\n",
       "    <tr>\n",
       "      <th>top</th>\n",
       "      <td>The media could not be loa...</td>\n",
       "    </tr>\n",
       "    <tr>\n",
       "      <th>freq</th>\n",
       "      <td>21</td>\n",
       "    </tr>\n",
       "  </tbody>\n",
       "</table>\n",
       "</div>"
      ],
      "text/plain": [
       "                                                  Reviews\n",
       "count                                                 908\n",
       "unique                                                852\n",
       "top                         The media could not be loa...\n",
       "freq                                                   21"
      ]
     },
     "execution_count": 31,
     "metadata": {},
     "output_type": "execute_result"
    }
   ],
   "source": [
    "Reviews.describe()"
   ]
  },
  {
   "cell_type": "code",
   "execution_count": 32,
   "id": "af514947",
   "metadata": {},
   "outputs": [
    {
     "data": {
      "text/plain": [
       "Reviews    object\n",
       "dtype: object"
      ]
     },
     "execution_count": 32,
     "metadata": {},
     "output_type": "execute_result"
    }
   ],
   "source": [
    "Reviews.dtypes"
   ]
  },
  {
   "cell_type": "code",
   "execution_count": 34,
   "id": "be1eaf86",
   "metadata": {},
   "outputs": [],
   "source": [
    "# removing customer name and reviw title column as they have not that significance in output##\n",
    "data.drop([\"Review Title\"],axis=1,inplace=True)\n"
   ]
  },
  {
   "cell_type": "code",
   "execution_count": 35,
   "id": "e670c12a",
   "metadata": {},
   "outputs": [
    {
     "data": {
      "text/html": [
       "<div>\n",
       "<style scoped>\n",
       "    .dataframe tbody tr th:only-of-type {\n",
       "        vertical-align: middle;\n",
       "    }\n",
       "\n",
       "    .dataframe tbody tr th {\n",
       "        vertical-align: top;\n",
       "    }\n",
       "\n",
       "    .dataframe thead th {\n",
       "        text-align: right;\n",
       "    }\n",
       "</style>\n",
       "<table border=\"1\" class=\"dataframe\">\n",
       "  <thead>\n",
       "    <tr style=\"text-align: right;\">\n",
       "      <th></th>\n",
       "      <th>Rating</th>\n",
       "      <th>Reviews</th>\n",
       "    </tr>\n",
       "  </thead>\n",
       "  <tbody>\n",
       "    <tr>\n",
       "      <th>0</th>\n",
       "      <td>1.0</td>\n",
       "      <td>This product is duplicate of iPhone 12 only ca...</td>\n",
       "    </tr>\n",
       "    <tr>\n",
       "      <th>1</th>\n",
       "      <td>1.0</td>\n",
       "      <td>There was a hairline scratch on the screen whi...</td>\n",
       "    </tr>\n",
       "    <tr>\n",
       "      <th>2</th>\n",
       "      <td>1.0</td>\n",
       "      <td>You should be a bigggggg bot to buy this phone...</td>\n",
       "    </tr>\n",
       "    <tr>\n",
       "      <th>3</th>\n",
       "      <td>1.0</td>\n",
       "      <td>Just but iphone 12!It’s not worth the money!Un...</td>\n",
       "    </tr>\n",
       "    <tr>\n",
       "      <th>4</th>\n",
       "      <td>1.0</td>\n",
       "      <td>i am poor and i cant afford it lmao xdxdxdxdxd...</td>\n",
       "    </tr>\n",
       "  </tbody>\n",
       "</table>\n",
       "</div>"
      ],
      "text/plain": [
       "  Rating                                            Reviews\n",
       "0    1.0  This product is duplicate of iPhone 12 only ca...\n",
       "1    1.0  There was a hairline scratch on the screen whi...\n",
       "2    1.0  You should be a bigggggg bot to buy this phone...\n",
       "3    1.0  Just but iphone 12!It’s not worth the money!Un...\n",
       "4    1.0  i am poor and i cant afford it lmao xdxdxdxdxd..."
      ]
     },
     "execution_count": 35,
     "metadata": {},
     "output_type": "execute_result"
    }
   ],
   "source": [
    "data.head()"
   ]
  },
  {
   "cell_type": "code",
   "execution_count": 36,
   "id": "05562b96",
   "metadata": {},
   "outputs": [],
   "source": [
    "data.dropna(inplace=True)"
   ]
  },
  {
   "cell_type": "code",
   "execution_count": 37,
   "id": "f3fb378c",
   "metadata": {},
   "outputs": [],
   "source": [
    "#Cleaning the text input for betting understanding of Machine..##\n",
    "\n",
    "#Converting all review into Lowercase..###\n",
    "data['Reviews']= data['Reviews'].apply(lambda x: \" \".join(word.lower() for word in x.split()))"
   ]
  },
  {
   "cell_type": "code",
   "execution_count": 38,
   "id": "9ad884e7",
   "metadata": {},
   "outputs": [],
   "source": [
    "# removing punctuation from review..#\n",
    "import string\n",
    "data['Reviews']=data['Reviews'].apply(lambda x:''.join([i for i in x  if i not in string.punctuation]))"
   ]
  },
  {
   "cell_type": "code",
   "execution_count": 39,
   "id": "793533fc",
   "metadata": {},
   "outputs": [
    {
     "name": "stderr",
     "output_type": "stream",
     "text": [
      "C:\\Users\\Lenovo\\AppData\\Local\\Temp/ipykernel_21676/2413098589.py:2: FutureWarning: The default value of regex will change from True to False in a future version.\n",
      "  data['Reviews']=data['Reviews'].str.replace('[0-9]','')\n"
     ]
    }
   ],
   "source": [
    "# Remove Numbers from review\n",
    "data['Reviews']=data['Reviews'].str.replace('[0-9]','')"
   ]
  },
  {
   "cell_type": "code",
   "execution_count": 40,
   "id": "a6cb7938",
   "metadata": {},
   "outputs": [],
   "source": [
    "# removing all stopwords(english)\n",
    "from nltk.corpus import stopwords"
   ]
  },
  {
   "cell_type": "code",
   "execution_count": 41,
   "id": "0ce207f8",
   "metadata": {},
   "outputs": [],
   "source": [
    "stop_words=stopwords.words('english')"
   ]
  },
  {
   "cell_type": "code",
   "execution_count": 42,
   "id": "3aff8a6d",
   "metadata": {},
   "outputs": [],
   "source": [
    "data['Reviews']=data['Reviews'].apply(lambda x: \" \".join(word for word in x.split() if word not in stop_words))"
   ]
  },
  {
   "cell_type": "code",
   "execution_count": 43,
   "id": "59d09cd1",
   "metadata": {},
   "outputs": [
    {
     "data": {
      "text/html": [
       "<div>\n",
       "<style scoped>\n",
       "    .dataframe tbody tr th:only-of-type {\n",
       "        vertical-align: middle;\n",
       "    }\n",
       "\n",
       "    .dataframe tbody tr th {\n",
       "        vertical-align: top;\n",
       "    }\n",
       "\n",
       "    .dataframe thead th {\n",
       "        text-align: right;\n",
       "    }\n",
       "</style>\n",
       "<table border=\"1\" class=\"dataframe\">\n",
       "  <thead>\n",
       "    <tr style=\"text-align: right;\">\n",
       "      <th></th>\n",
       "      <th>Rating</th>\n",
       "      <th>Reviews</th>\n",
       "    </tr>\n",
       "  </thead>\n",
       "  <tbody>\n",
       "    <tr>\n",
       "      <th>0</th>\n",
       "      <td>1.0</td>\n",
       "      <td>product duplicate iphone camera design changed...</td>\n",
       "    </tr>\n",
       "    <tr>\n",
       "      <th>1</th>\n",
       "      <td>1.0</td>\n",
       "      <td>hairline scratch screen clearly visible direct...</td>\n",
       "    </tr>\n",
       "    <tr>\n",
       "      <th>2</th>\n",
       "      <td>1.0</td>\n",
       "      <td>bigggggg bot buy phoneyou could get iphone pro...</td>\n",
       "    </tr>\n",
       "    <tr>\n",
       "      <th>3</th>\n",
       "      <td>1.0</td>\n",
       "      <td>iphone it’s worth moneyunless ur bjp something...</td>\n",
       "    </tr>\n",
       "    <tr>\n",
       "      <th>4</th>\n",
       "      <td>1.0</td>\n",
       "      <td>poor cant afford lmao xdxdxdxdxd money flex bu...</td>\n",
       "    </tr>\n",
       "    <tr>\n",
       "      <th>...</th>\n",
       "      <td>...</td>\n",
       "      <td>...</td>\n",
       "    </tr>\n",
       "    <tr>\n",
       "      <th>977</th>\n",
       "      <td>5.0</td>\n",
       "      <td>gift wife never wanted use phone k xiaomi bran...</td>\n",
       "    </tr>\n",
       "    <tr>\n",
       "      <th>978</th>\n",
       "      <td>5.0</td>\n",
       "      <td>best secured mobilebest fieldsbut costly affai...</td>\n",
       "    </tr>\n",
       "    <tr>\n",
       "      <th>980</th>\n",
       "      <td>5.0</td>\n",
       "      <td>rating</td>\n",
       "    </tr>\n",
       "    <tr>\n",
       "      <th>981</th>\n",
       "      <td>5.0</td>\n",
       "      <td>dont fingerprint readercharging adapter alo in...</td>\n",
       "    </tr>\n",
       "    <tr>\n",
       "      <th>982</th>\n",
       "      <td>4.0</td>\n",
       "      <td>awesome phonecamera quality better</td>\n",
       "    </tr>\n",
       "  </tbody>\n",
       "</table>\n",
       "<p>908 rows × 2 columns</p>\n",
       "</div>"
      ],
      "text/plain": [
       "    Rating                                            Reviews\n",
       "0      1.0  product duplicate iphone camera design changed...\n",
       "1      1.0  hairline scratch screen clearly visible direct...\n",
       "2      1.0  bigggggg bot buy phoneyou could get iphone pro...\n",
       "3      1.0  iphone it’s worth moneyunless ur bjp something...\n",
       "4      1.0  poor cant afford lmao xdxdxdxdxd money flex bu...\n",
       "..     ...                                                ...\n",
       "977    5.0  gift wife never wanted use phone k xiaomi bran...\n",
       "978    5.0  best secured mobilebest fieldsbut costly affai...\n",
       "980    5.0                                             rating\n",
       "981    5.0  dont fingerprint readercharging adapter alo in...\n",
       "982    4.0                 awesome phonecamera quality better\n",
       "\n",
       "[908 rows x 2 columns]"
      ]
     },
     "execution_count": 43,
     "metadata": {},
     "output_type": "execute_result"
    }
   ],
   "source": [
    "data"
   ]
  },
  {
   "cell_type": "code",
   "execution_count": 44,
   "id": "4ae1d151",
   "metadata": {},
   "outputs": [],
   "source": [
    "from textblob import Word\n",
    "data['Reviews']= data['Reviews'].apply(lambda x: \" \".join([Word(word).lemmatize() for word in x.split()]))\n",
    "\n",
    "import re\n",
    "pattern = r\"((?<=^)|(?<= )).((?=$)|(?= ))\"\n",
    "data['Reviews']= data['Reviews'].apply(lambda x:(re.sub(pattern, '',x).strip()))"
   ]
  },
  {
   "cell_type": "code",
   "execution_count": 45,
   "id": "ee3ffdc3",
   "metadata": {},
   "outputs": [
    {
     "data": {
      "text/plain": [
       "0    product duplicate iphone camera design changed...\n",
       "1    hairline scratch screen clearly visible direct...\n",
       "2    bigggggg bot buy phoneyou could get iphone pro...\n",
       "3    iphone it’s worth moneyunless ur bjp something...\n",
       "4    poor cant afford lmao xdxdxdxdxd money flex bu...\n",
       "Name: Reviews, dtype: object"
      ]
     },
     "execution_count": 45,
     "metadata": {},
     "output_type": "execute_result"
    }
   ],
   "source": [
    "data['Reviews'].head()"
   ]
  },
  {
   "cell_type": "code",
   "execution_count": 46,
   "id": "44ffc595",
   "metadata": {},
   "outputs": [
    {
     "name": "stdout",
     "output_type": "stream",
     "text": [
      "     aagenote  aaya  aaye  ab  able  aboutoverall  absolute  absolutely  abt  \\\n",
      "0           0     0     0   0     0             0         0           0    0   \n",
      "1           0     0     0   0     0             0         0           0    0   \n",
      "2           0     0     0   0     0             0         0           0    0   \n",
      "3           0     0     0   0     0             0         0           0    0   \n",
      "4           0     0     0   0     0             0         0           0    0   \n",
      "..        ...   ...   ...  ..   ...           ...       ...         ...  ...   \n",
      "903         0     0     0   0     0             0         0           0    0   \n",
      "904         0     0     0   0     0             0         0           0    0   \n",
      "905         0     0     0   0     0             0         0           0    0   \n",
      "906         0     0     0   0     0             0         0           0    0   \n",
      "907         0     0     0   0     0             0         0           0    0   \n",
      "\n",
      "     acceptable  ...  yr  zabardast  zoom  zooming  zoomprocessor  उसक  कर  \\\n",
      "0             0  ...   0          0     0        0              0    0   0   \n",
      "1             0  ...   0          0     0        0              0    0   0   \n",
      "2             0  ...   0          0     0        0              0    0   0   \n",
      "3             0  ...   0          0     0        0              0    0   0   \n",
      "4             0  ...   0          0     0        0              0    0   0   \n",
      "..          ...  ...  ..        ...   ...      ...            ...  ...  ..   \n",
      "903           0  ...   0          0     0        0              0    0   0   \n",
      "904           0  ...   0          0     0        0              0    0   0   \n",
      "905           0  ...   0          0     0        0              0    0   0   \n",
      "906           0  ...   0          0     0        0              0    0   0   \n",
      "907           0  ...   0          0     0        0              0    0   0   \n",
      "\n",
      "     बन  सन  ಇದಕ  \n",
      "0     0   0    0  \n",
      "1     0   0    0  \n",
      "2     0   0    0  \n",
      "3     0   0    0  \n",
      "4     0   0    0  \n",
      "..   ..  ..  ...  \n",
      "903   0   0    0  \n",
      "904   0   0    0  \n",
      "905   0   0    0  \n",
      "906   0   0    0  \n",
      "907   0   0    0  \n",
      "\n",
      "[908 rows x 2818 columns]\n"
     ]
    },
    {
     "name": "stderr",
     "output_type": "stream",
     "text": [
      "C:\\Users\\Lenovo\\anaconda3\\lib\\site-packages\\sklearn\\utils\\deprecation.py:87: FutureWarning: Function get_feature_names is deprecated; get_feature_names is deprecated in 1.0 and will be removed in 1.2. Please use get_feature_names_out instead.\n",
      "  warnings.warn(msg, category=FutureWarning)\n"
     ]
    }
   ],
   "source": [
    "from sklearn.feature_extraction.text import CountVectorizer\n",
    "\n",
    "\n",
    "vec = CountVectorizer()\n",
    "X = vec.fit_transform(data['Reviews'])\n",
    "df = pd.DataFrame(X.toarray(), columns=vec.get_feature_names())\n",
    "print(df)"
   ]
  },
  {
   "cell_type": "code",
   "execution_count": 47,
   "id": "c4677af4",
   "metadata": {},
   "outputs": [
    {
     "data": {
      "text/plain": [
       "<matplotlib.image.AxesImage at 0x288f4004b50>"
      ]
     },
     "execution_count": 47,
     "metadata": {},
     "output_type": "execute_result"
    },
    {
     "data": {
      "image/png": "[encoded data removed]",
      "text/plain": [
       "<Figure size 720x720 with 1 Axes>"
      ]
     },
     "metadata": {},
     "output_type": "display_data"
    }
   ],
   "source": [
    "Review_wordcloud = ' '.join(data['Reviews'])\n",
    "Q_wordcloud=WordCloud(\n",
    "                    background_color='black',\n",
    "                    width=2000,\n",
    "                    height=2000\n",
    "                   ).generate(Review_wordcloud)\n",
    "fig = plt.figure(figsize = (10, 10))\n",
    "plt.axis('on')\n",
    "plt.imshow(Q_wordcloud)"
   ]
  },
  {
   "cell_type": "markdown",
   "id": "45978ed9",
   "metadata": {},
   "source": [
    "# Removing Punctuation\n",
    "The next step is to remove punctuation, as it doesn’t add any extra information while treating text data. Therefore removing all instances of it will help us reduce the size of the training data."
   ]
  },
  {
   "cell_type": "code",
   "execution_count": 48,
   "id": "3cef59ef",
   "metadata": {},
   "outputs": [
    {
     "name": "stderr",
     "output_type": "stream",
     "text": [
      "C:\\Users\\Lenovo\\AppData\\Local\\Temp/ipykernel_21676/2640507917.py:1: FutureWarning: The default value of regex will change from True to False in a future version.\n",
      "  data['Reviews'] = data['Reviews'].str.replace('[^\\w\\s]','')\n"
     ]
    },
    {
     "data": {
      "text/plain": [
       "0    product duplicate iphone camera design changed...\n",
       "1    hairline scratch screen clearly visible direct...\n",
       "2    bigggggg bot buy phoneyou could get iphone pro...\n",
       "3    iphone its worth moneyunless ur bjp something ...\n",
       "4    poor cant afford lmao xdxdxdxdxd money flex bu...\n",
       "Name: Reviews, dtype: object"
      ]
     },
     "execution_count": 48,
     "metadata": {},
     "output_type": "execute_result"
    }
   ],
   "source": [
    "data['Reviews'] = data['Reviews'].str.replace('[^\\w\\s]','')\n",
    "data['Reviews'].head()"
   ]
  },
  {
   "cell_type": "markdown",
   "id": "4bf22b09",
   "metadata": {},
   "source": [
    "# Common word removal\n",
    "Previously, we just removed commonly occurring words in a general sense. We can also remove commonly occurring words from our text data First, let’s check the 10 most frequently occurring words in our text data then take call to remove or retain."
   ]
  },
  {
   "cell_type": "code",
   "execution_count": 50,
   "id": "a2537549",
   "metadata": {},
   "outputs": [
    {
     "data": {
      "text/plain": [
       "phone      437\n",
       "iphone     403\n",
       "good       269\n",
       "battery    247\n",
       "camera     231\n",
       "apple      159\n",
       "product    149\n",
       "best       139\n",
       "life       134\n",
       "quality    128\n",
       "dtype: int64"
      ]
     },
     "execution_count": 50,
     "metadata": {},
     "output_type": "execute_result"
    }
   ],
   "source": [
    "freq = pd.Series(' '.join(data['Reviews']).split()).value_counts()[:10]\n",
    "freq"
   ]
  },
  {
   "cell_type": "markdown",
   "id": "c890a492",
   "metadata": {},
   "source": [
    "Now, let’s remove these words as their presence will not of any use in classification of our text data."
   ]
  },
  {
   "cell_type": "code",
   "execution_count": 51,
   "id": "e7e41cab",
   "metadata": {},
   "outputs": [
    {
     "data": {
      "text/plain": [
       "0      duplicate design changed low buy samsung mobile\n",
       "1    hairline scratch screen clearly visible direct...\n",
       "2        bigggggg bot buy phoneyou could get pro thats\n",
       "3    its worth moneyunless ur bjp something youre f...\n",
       "4    poor cant afford lmao xdxdxdxdxd money flex bu...\n",
       "Name: Reviews, dtype: object"
      ]
     },
     "execution_count": 51,
     "metadata": {},
     "output_type": "execute_result"
    }
   ],
   "source": [
    "data['Reviews'] = data['Reviews'].apply(lambda x: \" \".join(x for x in x.split() if x not in freq))\n",
    "data['Reviews'].head()"
   ]
  },
  {
   "cell_type": "markdown",
   "id": "54149537",
   "metadata": {},
   "source": [
    "Rare words removal\n",
    "\n",
    "Similarly, just as we removed the most common words, this time let’s remove rarely occurring words from the text. Because they’re so rare, the association between them and other words is dominated by noise. You can replace rare words with a more general form and then this will have higher counts"
   ]
  },
  {
   "cell_type": "code",
   "execution_count": 52,
   "id": "aac93d9a",
   "metadata": {},
   "outputs": [
    {
     "data": {
      "text/plain": [
       "yearsyet          1\n",
       "offmost           1\n",
       "converted         1\n",
       "androidearlier    1\n",
       "gesture           1\n",
       "outperforming     1\n",
       "bankadapter       1\n",
       "input             1\n",
       "thisthanksvenu    1\n",
       "phonecamera       1\n",
       "dtype: int64"
      ]
     },
     "execution_count": 52,
     "metadata": {},
     "output_type": "execute_result"
    }
   ],
   "source": [
    "freq = pd.Series(' '.join(data['Reviews']).split()).value_counts()[-10:]\n",
    "freq"
   ]
  },
  {
   "cell_type": "code",
   "execution_count": 53,
   "id": "fcca0614",
   "metadata": {},
   "outputs": [
    {
     "data": {
      "text/plain": [
       "0       duplicate design changed low buy samson mobile\n",
       "1    airline scratch screen clearly visible directl...\n",
       "2         bigggggg not buy phoneyou could get pro that\n",
       "3    its worth moneyunless or by something your ful...\n",
       "4    poor can afford may xdxdxdxdxd money flex buy ...\n",
       "5    medium could loaded switched andros iosthere m...\n",
       "6    honest review going broke buying deprecating o...\n",
       "7     money get dream get definitely fulfilled one day\n",
       "8    medium could loaded four time hang facing diff...\n",
       "9                       ever reading review suggest go\n",
       "Name: Reviews, dtype: object"
      ]
     },
     "execution_count": 53,
     "metadata": {},
     "output_type": "execute_result"
    }
   ],
   "source": [
    "from textblob import TextBlob\n",
    "data['Reviews'][:10].apply(lambda x: str(TextBlob(x).correct()))"
   ]
  },
  {
   "cell_type": "markdown",
   "id": "2d93f5f8",
   "metadata": {},
   "source": [
    "# Tokenization\n",
    "Tokenization refers to dividing the text into a sequence of words or sentences. In our example, we have used the textblob library to first transform our reviews into a blob and then converted them into a series of words."
   ]
  },
  {
   "cell_type": "code",
   "execution_count": 54,
   "id": "1dacb954",
   "metadata": {},
   "outputs": [
    {
     "data": {
      "text/plain": [
       "WordList(['duplicate', 'design', 'changed', 'low', 'buy', 'samsung', 'mobile'])"
      ]
     },
     "execution_count": 54,
     "metadata": {},
     "output_type": "execute_result"
    }
   ],
   "source": [
    "TextBlob(data['Reviews'][0]).words"
   ]
  },
  {
   "cell_type": "code",
   "execution_count": 56,
   "id": "bb1a2f52",
   "metadata": {},
   "outputs": [
    {
     "data": {
      "text/plain": [
       "WordList(['hairline', 'scratch', 'screen', 'clearly', 'visible', 'directly', 'tried', 'contacting', 'amazon', 'replacement', 'asked', 'connect', 'connected', 'asked', 'connect', 'amazon', 'blame', 'game', 'begin', 'end', 'paying', 'price', 'awfull', 'service', 'going', 'tag', 'social', 'medium', 'amazon', 'big', 'scam'])"
      ]
     },
     "execution_count": 56,
     "metadata": {},
     "output_type": "execute_result"
    }
   ],
   "source": [
    "TextBlob(data['Reviews'][1]).words"
   ]
  },
  {
   "cell_type": "markdown",
   "id": "fb5528db",
   "metadata": {},
   "source": [
    "# Stemming refers to the removal of suffices, like “ing”, “ly”, “s”, etc. by a simple rule-based approach. For this purpose, we will use PorterStemmer from the NLTK library"
   ]
  },
  {
   "cell_type": "code",
   "execution_count": 57,
   "id": "19d5bfda",
   "metadata": {},
   "outputs": [
    {
     "data": {
      "text/plain": [
       "0            duplic design chang low buy samsung mobil\n",
       "1    hairlin scratch screen clearli visibl directli...\n",
       "2           bigggggg bot buy phoney could get pro that\n",
       "3    it worth moneyunless ur bjp someth your full c...\n",
       "4    poor cant afford lmao xdxdxdxdxd money flex bu...\n",
       "5    medium could load switch android iosther mani ...\n",
       "6    honest review go broke buy depreci objecti use...\n",
       "7           money get dream get definit fulfil one day\n",
       "8    medium could load four time hang face difficul...\n",
       "9                          ever read review suggest go\n",
       "Name: Reviews, dtype: object"
      ]
     },
     "execution_count": 57,
     "metadata": {},
     "output_type": "execute_result"
    }
   ],
   "source": [
    "from nltk.stem import PorterStemmer\n",
    "st = PorterStemmer()\n",
    "data['Reviews'][:10].apply(lambda x: \" \".join([st.stem(word) for word in x.split()]))"
   ]
  },
  {
   "cell_type": "markdown",
   "id": "371813f8",
   "metadata": {},
   "source": [
    "# Lemmatization\n",
    "Lemmatization is a more effective option than stemming because it converts the word into its root word, rather than just stripping the suffices. It makes use of the vocabulary and does a morphological analysis to obtain the root word. Therefore, we usually prefer using lemmatization over stemming."
   ]
  },
  {
   "cell_type": "code",
   "execution_count": 58,
   "id": "c8fbf317",
   "metadata": {},
   "outputs": [
    {
     "data": {
      "text/plain": [
       "0      duplicate design changed low buy samsung mobile\n",
       "1    hairline scratch screen clearly visible direct...\n",
       "2        bigggggg bot buy phoneyou could get pro thats\n",
       "3    it worth moneyunless ur bjp something youre fu...\n",
       "4    poor cant afford lmao xdxdxdxdxd money flex bu...\n",
       "Name: Reviews, dtype: object"
      ]
     },
     "execution_count": 58,
     "metadata": {},
     "output_type": "execute_result"
    }
   ],
   "source": [
    "from textblob import Word\n",
    "data['Reviews'] = data['Reviews'].apply(lambda x: \" \".join([Word(word).lemmatize() for word in x.split()]))\n",
    "data['Reviews'].head()"
   ]
  },
  {
   "cell_type": "markdown",
   "id": "da9da5ae",
   "metadata": {},
   "source": [
    "# Advance Text Processing\n",
    "Up to this point, we have done all the basic pre-processing steps in order to clean our data. Now, we can finally move on to extracting features using NLP techniques.\n",
    "\n",
    "N-grams\n",
    "\n",
    "N-grams are the combination of multiple words used together. Ngrams with N=1 are called unigrams. Similarly, bigrams (N=2), trigrams (N=3) and so on can also be used."
   ]
  },
  {
   "cell_type": "code",
   "execution_count": 59,
   "id": "65fa50f4",
   "metadata": {},
   "outputs": [
    {
     "data": {
      "text/plain": [
       "[WordList(['duplicate', 'design']),\n",
       " WordList(['design', 'changed']),\n",
       " WordList(['changed', 'low']),\n",
       " WordList(['low', 'buy']),\n",
       " WordList(['buy', 'samsung']),\n",
       " WordList(['samsung', 'mobile'])]"
      ]
     },
     "execution_count": 59,
     "metadata": {},
     "output_type": "execute_result"
    }
   ],
   "source": [
    "TextBlob(data['Reviews'][0]).ngrams(2)"
   ]
  },
  {
   "cell_type": "markdown",
   "id": "cd74336f",
   "metadata": {},
   "source": [
    "# Term frequency\n",
    "Term frequency is simply the ratio of the count of a word present in a sentence, to the length of the sentence.\n",
    "\n",
    "Therefore, we can generalize term frequency as:\n",
    "\n",
    "TF = (Number of times term T appears in the particular row) / (number of terms in that row)"
   ]
  },
  {
   "cell_type": "code",
   "execution_count": 60,
   "id": "cc6aeabb",
   "metadata": {},
   "outputs": [
    {
     "data": {
      "text/html": [
       "<div>\n",
       "<style scoped>\n",
       "    .dataframe tbody tr th:only-of-type {\n",
       "        vertical-align: middle;\n",
       "    }\n",
       "\n",
       "    .dataframe tbody tr th {\n",
       "        vertical-align: top;\n",
       "    }\n",
       "\n",
       "    .dataframe thead th {\n",
       "        text-align: right;\n",
       "    }\n",
       "</style>\n",
       "<table border=\"1\" class=\"dataframe\">\n",
       "  <thead>\n",
       "    <tr style=\"text-align: right;\">\n",
       "      <th></th>\n",
       "      <th>words</th>\n",
       "      <th>tf</th>\n",
       "    </tr>\n",
       "  </thead>\n",
       "  <tbody>\n",
       "    <tr>\n",
       "      <th>0</th>\n",
       "      <td>amazon</td>\n",
       "      <td>3.0</td>\n",
       "    </tr>\n",
       "    <tr>\n",
       "      <th>1</th>\n",
       "      <td>asked</td>\n",
       "      <td>2.0</td>\n",
       "    </tr>\n",
       "    <tr>\n",
       "      <th>2</th>\n",
       "      <td>connect</td>\n",
       "      <td>2.0</td>\n",
       "    </tr>\n",
       "    <tr>\n",
       "      <th>3</th>\n",
       "      <td>hairline</td>\n",
       "      <td>1.0</td>\n",
       "    </tr>\n",
       "    <tr>\n",
       "      <th>4</th>\n",
       "      <td>begin</td>\n",
       "      <td>1.0</td>\n",
       "    </tr>\n",
       "    <tr>\n",
       "      <th>...</th>\n",
       "      <td>...</td>\n",
       "      <td>...</td>\n",
       "    </tr>\n",
       "    <tr>\n",
       "      <th>253</th>\n",
       "      <td>solve</td>\n",
       "      <td>1.0</td>\n",
       "    </tr>\n",
       "    <tr>\n",
       "      <th>254</th>\n",
       "      <td>problem</td>\n",
       "      <td>1.0</td>\n",
       "    </tr>\n",
       "    <tr>\n",
       "      <th>255</th>\n",
       "      <td>ever</td>\n",
       "      <td>1.0</td>\n",
       "    </tr>\n",
       "    <tr>\n",
       "      <th>256</th>\n",
       "      <td>reading</td>\n",
       "      <td>1.0</td>\n",
       "    </tr>\n",
       "    <tr>\n",
       "      <th>257</th>\n",
       "      <td>suggest</td>\n",
       "      <td>1.0</td>\n",
       "    </tr>\n",
       "  </tbody>\n",
       "</table>\n",
       "<p>258 rows × 2 columns</p>\n",
       "</div>"
      ],
      "text/plain": [
       "        words   tf\n",
       "0      amazon  3.0\n",
       "1       asked  2.0\n",
       "2     connect  2.0\n",
       "3    hairline  1.0\n",
       "4       begin  1.0\n",
       "..        ...  ...\n",
       "253     solve  1.0\n",
       "254   problem  1.0\n",
       "255      ever  1.0\n",
       "256   reading  1.0\n",
       "257   suggest  1.0\n",
       "\n",
       "[258 rows x 2 columns]"
      ]
     },
     "execution_count": 60,
     "metadata": {},
     "output_type": "execute_result"
    }
   ],
   "source": [
    "tf1 = (data['Reviews'][1:10]).apply(lambda x: pd.value_counts(x.split(\" \"))).sum(axis = 0).reset_index()\n",
    "tf1.columns = ['words','tf']\n",
    "tf1"
   ]
  },
  {
   "cell_type": "markdown",
   "id": "85554cdc",
   "metadata": {},
   "source": [
    "# Inverse Document Frequency\n",
    "The intuition behind inverse document frequency (IDF) is that a word is not of much use to us if it’s appearing in all the documents.\n",
    "\n",
    "Therefore, the IDF of each word is the log of the ratio of the total number of rows to the number of rows in which that word is present.\n",
    "\n",
    "IDF = log(N/n), where, N is the total number of rows and n is the number of rows in which the word was present."
   ]
  },
  {
   "cell_type": "code",
   "execution_count": 61,
   "id": "76a9f9e0",
   "metadata": {},
   "outputs": [
    {
     "data": {
      "text/html": [
       "<div>\n",
       "<style scoped>\n",
       "    .dataframe tbody tr th:only-of-type {\n",
       "        vertical-align: middle;\n",
       "    }\n",
       "\n",
       "    .dataframe tbody tr th {\n",
       "        vertical-align: top;\n",
       "    }\n",
       "\n",
       "    .dataframe thead th {\n",
       "        text-align: right;\n",
       "    }\n",
       "</style>\n",
       "<table border=\"1\" class=\"dataframe\">\n",
       "  <thead>\n",
       "    <tr style=\"text-align: right;\">\n",
       "      <th></th>\n",
       "      <th>words</th>\n",
       "      <th>tf</th>\n",
       "      <th>idf</th>\n",
       "    </tr>\n",
       "  </thead>\n",
       "  <tbody>\n",
       "    <tr>\n",
       "      <th>0</th>\n",
       "      <td>amazon</td>\n",
       "      <td>3.0</td>\n",
       "      <td>2.562749</td>\n",
       "    </tr>\n",
       "    <tr>\n",
       "      <th>1</th>\n",
       "      <td>asked</td>\n",
       "      <td>2.0</td>\n",
       "      <td>5.712632</td>\n",
       "    </tr>\n",
       "    <tr>\n",
       "      <th>2</th>\n",
       "      <td>connect</td>\n",
       "      <td>2.0</td>\n",
       "      <td>4.326338</td>\n",
       "    </tr>\n",
       "    <tr>\n",
       "      <th>3</th>\n",
       "      <td>hairline</td>\n",
       "      <td>1.0</td>\n",
       "      <td>6.811244</td>\n",
       "    </tr>\n",
       "    <tr>\n",
       "      <th>4</th>\n",
       "      <td>begin</td>\n",
       "      <td>1.0</td>\n",
       "      <td>6.118097</td>\n",
       "    </tr>\n",
       "    <tr>\n",
       "      <th>...</th>\n",
       "      <td>...</td>\n",
       "      <td>...</td>\n",
       "      <td>...</td>\n",
       "    </tr>\n",
       "    <tr>\n",
       "      <th>253</th>\n",
       "      <td>solve</td>\n",
       "      <td>1.0</td>\n",
       "      <td>5.424950</td>\n",
       "    </tr>\n",
       "    <tr>\n",
       "      <th>254</th>\n",
       "      <td>problem</td>\n",
       "      <td>1.0</td>\n",
       "      <td>3.815512</td>\n",
       "    </tr>\n",
       "    <tr>\n",
       "      <th>255</th>\n",
       "      <td>ever</td>\n",
       "      <td>1.0</td>\n",
       "      <td>2.176515</td>\n",
       "    </tr>\n",
       "    <tr>\n",
       "      <th>256</th>\n",
       "      <td>reading</td>\n",
       "      <td>1.0</td>\n",
       "      <td>5.424950</td>\n",
       "    </tr>\n",
       "    <tr>\n",
       "      <th>257</th>\n",
       "      <td>suggest</td>\n",
       "      <td>1.0</td>\n",
       "      <td>5.019485</td>\n",
       "    </tr>\n",
       "  </tbody>\n",
       "</table>\n",
       "<p>258 rows × 3 columns</p>\n",
       "</div>"
      ],
      "text/plain": [
       "        words   tf       idf\n",
       "0      amazon  3.0  2.562749\n",
       "1       asked  2.0  5.712632\n",
       "2     connect  2.0  4.326338\n",
       "3    hairline  1.0  6.811244\n",
       "4       begin  1.0  6.118097\n",
       "..        ...  ...       ...\n",
       "253     solve  1.0  5.424950\n",
       "254   problem  1.0  3.815512\n",
       "255      ever  1.0  2.176515\n",
       "256   reading  1.0  5.424950\n",
       "257   suggest  1.0  5.019485\n",
       "\n",
       "[258 rows x 3 columns]"
      ]
     },
     "execution_count": 61,
     "metadata": {},
     "output_type": "execute_result"
    }
   ],
   "source": [
    "for i,word in enumerate(tf1['words']):\n",
    "    tf1.loc[i, 'idf'] = np.log(data.shape[0]/(len(data[data['Reviews'].str.contains(word)])))\n",
    "tf1"
   ]
  },
  {
   "cell_type": "markdown",
   "id": "0e3a2113",
   "metadata": {},
   "source": [
    "# Term Frequency – Inverse Document Frequency (TF-IDF)\n",
    "TF-IDF is the multiplication of the TF and IDF which we calculated above."
   ]
  },
  {
   "cell_type": "code",
   "execution_count": 62,
   "id": "211be5a4",
   "metadata": {},
   "outputs": [
    {
     "data": {
      "text/html": [
       "<div>\n",
       "<style scoped>\n",
       "    .dataframe tbody tr th:only-of-type {\n",
       "        vertical-align: middle;\n",
       "    }\n",
       "\n",
       "    .dataframe tbody tr th {\n",
       "        vertical-align: top;\n",
       "    }\n",
       "\n",
       "    .dataframe thead th {\n",
       "        text-align: right;\n",
       "    }\n",
       "</style>\n",
       "<table border=\"1\" class=\"dataframe\">\n",
       "  <thead>\n",
       "    <tr style=\"text-align: right;\">\n",
       "      <th></th>\n",
       "      <th>words</th>\n",
       "      <th>tf</th>\n",
       "      <th>idf</th>\n",
       "      <th>tfidf</th>\n",
       "    </tr>\n",
       "  </thead>\n",
       "  <tbody>\n",
       "    <tr>\n",
       "      <th>0</th>\n",
       "      <td>amazon</td>\n",
       "      <td>3.0</td>\n",
       "      <td>2.562749</td>\n",
       "      <td>7.688247</td>\n",
       "    </tr>\n",
       "    <tr>\n",
       "      <th>1</th>\n",
       "      <td>asked</td>\n",
       "      <td>2.0</td>\n",
       "      <td>5.712632</td>\n",
       "      <td>11.425264</td>\n",
       "    </tr>\n",
       "    <tr>\n",
       "      <th>2</th>\n",
       "      <td>connect</td>\n",
       "      <td>2.0</td>\n",
       "      <td>4.326338</td>\n",
       "      <td>8.652675</td>\n",
       "    </tr>\n",
       "    <tr>\n",
       "      <th>3</th>\n",
       "      <td>hairline</td>\n",
       "      <td>1.0</td>\n",
       "      <td>6.811244</td>\n",
       "      <td>6.811244</td>\n",
       "    </tr>\n",
       "    <tr>\n",
       "      <th>4</th>\n",
       "      <td>begin</td>\n",
       "      <td>1.0</td>\n",
       "      <td>6.118097</td>\n",
       "      <td>6.118097</td>\n",
       "    </tr>\n",
       "    <tr>\n",
       "      <th>...</th>\n",
       "      <td>...</td>\n",
       "      <td>...</td>\n",
       "      <td>...</td>\n",
       "      <td>...</td>\n",
       "    </tr>\n",
       "    <tr>\n",
       "      <th>253</th>\n",
       "      <td>solve</td>\n",
       "      <td>1.0</td>\n",
       "      <td>5.424950</td>\n",
       "      <td>5.424950</td>\n",
       "    </tr>\n",
       "    <tr>\n",
       "      <th>254</th>\n",
       "      <td>problem</td>\n",
       "      <td>1.0</td>\n",
       "      <td>3.815512</td>\n",
       "      <td>3.815512</td>\n",
       "    </tr>\n",
       "    <tr>\n",
       "      <th>255</th>\n",
       "      <td>ever</td>\n",
       "      <td>1.0</td>\n",
       "      <td>2.176515</td>\n",
       "      <td>2.176515</td>\n",
       "    </tr>\n",
       "    <tr>\n",
       "      <th>256</th>\n",
       "      <td>reading</td>\n",
       "      <td>1.0</td>\n",
       "      <td>5.424950</td>\n",
       "      <td>5.424950</td>\n",
       "    </tr>\n",
       "    <tr>\n",
       "      <th>257</th>\n",
       "      <td>suggest</td>\n",
       "      <td>1.0</td>\n",
       "      <td>5.019485</td>\n",
       "      <td>5.019485</td>\n",
       "    </tr>\n",
       "  </tbody>\n",
       "</table>\n",
       "<p>258 rows × 4 columns</p>\n",
       "</div>"
      ],
      "text/plain": [
       "        words   tf       idf      tfidf\n",
       "0      amazon  3.0  2.562749   7.688247\n",
       "1       asked  2.0  5.712632  11.425264\n",
       "2     connect  2.0  4.326338   8.652675\n",
       "3    hairline  1.0  6.811244   6.811244\n",
       "4       begin  1.0  6.118097   6.118097\n",
       "..        ...  ...       ...        ...\n",
       "253     solve  1.0  5.424950   5.424950\n",
       "254   problem  1.0  3.815512   3.815512\n",
       "255      ever  1.0  2.176515   2.176515\n",
       "256   reading  1.0  5.424950   5.424950\n",
       "257   suggest  1.0  5.019485   5.019485\n",
       "\n",
       "[258 rows x 4 columns]"
      ]
     },
     "execution_count": 62,
     "metadata": {},
     "output_type": "execute_result"
    }
   ],
   "source": [
    "tf1['tfidf'] = tf1['tf'] * tf1['idf']\n",
    "tf1"
   ]
  },
  {
   "cell_type": "code",
   "execution_count": 63,
   "id": "390e9ae3",
   "metadata": {},
   "outputs": [
    {
     "data": {
      "text/plain": [
       "<908x1000 sparse matrix of type '<class 'numpy.float64'>'\n",
       "\twith 7533 stored elements in Compressed Sparse Row format>"
      ]
     },
     "execution_count": 63,
     "metadata": {},
     "output_type": "execute_result"
    }
   ],
   "source": [
    "from sklearn.feature_extraction.text import TfidfVectorizer\n",
    "tfidf = TfidfVectorizer(max_features=1000, lowercase=True, analyzer='word',\n",
    " stop_words= 'english',ngram_range=(1,1))\n",
    "data_vect = tfidf.fit_transform(data['Reviews'])\n",
    "\n",
    "data_vect"
   ]
  },
  {
   "cell_type": "markdown",
   "id": "bf863986",
   "metadata": {},
   "source": [
    "# Bag of Words\n",
    "Bag of Words (BoW) refers to the representation of text which describes the presence of words within the text data. The intuition behind this is that two similar text fields will contain similar kind of words, and will therefore have a similar bag of words. Further, that from the text alone we can learn something about the meaning of the document.\n",
    "\n",
    "For implementation, sklearn provides a separate function for it as shown below"
   ]
  },
  {
   "cell_type": "code",
   "execution_count": 64,
   "id": "e4a6f21f",
   "metadata": {},
   "outputs": [
    {
     "data": {
      "text/plain": [
       "<908x1000 sparse matrix of type '<class 'numpy.int64'>'\n",
       "\twith 8710 stored elements in Compressed Sparse Row format>"
      ]
     },
     "execution_count": 64,
     "metadata": {},
     "output_type": "execute_result"
    }
   ],
   "source": [
    "from sklearn.feature_extraction.text import CountVectorizer\n",
    "bow = CountVectorizer(max_features=1000, lowercase=True, ngram_range=(1,1),analyzer = \"word\")\n",
    "data_bow = bow.fit_transform(data['Reviews'])\n",
    "data_bow"
   ]
  },
  {
   "cell_type": "markdown",
   "id": "10a6c71c",
   "metadata": {},
   "source": [
    "# Sentiment Analysis\n",
    "If you recall, our problem was to detect the sentiment of the tweet. So, before applying any ML/DL models (which can have a separate feature detecting the sentiment using the textblob library),let’s check the sentiment of the first few reviews."
   ]
  },
  {
   "cell_type": "code",
   "execution_count": 66,
   "id": "b1feabbe",
   "metadata": {},
   "outputs": [
    {
     "data": {
      "text/plain": [
       "0                                   (0.0, 0.3)\n",
       "1                 (-0.03333333333333334, 0.27)\n",
       "2                                   (0.0, 0.0)\n",
       "3    (0.04999999999999997, 0.5499999999999999)\n",
       "4                                 (-0.2, 0.72)\n",
       "5                   (0.47222222222222227, 0.5)\n",
       "6    (0.09857104700854702, 0.5116853632478632)\n",
       "7                                   (0.0, 0.5)\n",
       "8                                   (0.0, 0.0)\n",
       "9                                   (0.0, 0.0)\n",
       "Name: Reviews, dtype: object"
      ]
     },
     "execution_count": 66,
     "metadata": {},
     "output_type": "execute_result"
    }
   ],
   "source": [
    "data['Reviews'][:10].apply(lambda x: TextBlob(x).sentiment)"
   ]
  },
  {
   "cell_type": "markdown",
   "id": "f4fb7213",
   "metadata": {},
   "source": [
    "# Here, we only extract polarity as it indicates the sentiment as value nearer to 1 means a positive sentiment and values nearer to -1 means a negative sentiment. This can also work as a feature for building a machine learning model."
   ]
  },
  {
   "cell_type": "code",
   "execution_count": 67,
   "id": "c3a73a7c",
   "metadata": {},
   "outputs": [
    {
     "data": {
      "text/html": [
       "<div>\n",
       "<style scoped>\n",
       "    .dataframe tbody tr th:only-of-type {\n",
       "        vertical-align: middle;\n",
       "    }\n",
       "\n",
       "    .dataframe tbody tr th {\n",
       "        vertical-align: top;\n",
       "    }\n",
       "\n",
       "    .dataframe thead th {\n",
       "        text-align: right;\n",
       "    }\n",
       "</style>\n",
       "<table border=\"1\" class=\"dataframe\">\n",
       "  <thead>\n",
       "    <tr style=\"text-align: right;\">\n",
       "      <th></th>\n",
       "      <th>Reviews</th>\n",
       "      <th>sentiment</th>\n",
       "    </tr>\n",
       "  </thead>\n",
       "  <tbody>\n",
       "    <tr>\n",
       "      <th>0</th>\n",
       "      <td>duplicate design changed low buy samsung mobile</td>\n",
       "      <td>0.000000</td>\n",
       "    </tr>\n",
       "    <tr>\n",
       "      <th>1</th>\n",
       "      <td>hairline scratch screen clearly visible direct...</td>\n",
       "      <td>-0.033333</td>\n",
       "    </tr>\n",
       "    <tr>\n",
       "      <th>2</th>\n",
       "      <td>bigggggg bot buy phoneyou could get pro thats</td>\n",
       "      <td>0.000000</td>\n",
       "    </tr>\n",
       "    <tr>\n",
       "      <th>3</th>\n",
       "      <td>it worth moneyunless ur bjp something youre fu...</td>\n",
       "      <td>0.050000</td>\n",
       "    </tr>\n",
       "    <tr>\n",
       "      <th>4</th>\n",
       "      <td>poor cant afford lmao xdxdxdxdxd money flex bu...</td>\n",
       "      <td>-0.200000</td>\n",
       "    </tr>\n",
       "  </tbody>\n",
       "</table>\n",
       "</div>"
      ],
      "text/plain": [
       "                                             Reviews  sentiment\n",
       "0    duplicate design changed low buy samsung mobile   0.000000\n",
       "1  hairline scratch screen clearly visible direct...  -0.033333\n",
       "2      bigggggg bot buy phoneyou could get pro thats   0.000000\n",
       "3  it worth moneyunless ur bjp something youre fu...   0.050000\n",
       "4  poor cant afford lmao xdxdxdxdxd money flex bu...  -0.200000"
      ]
     },
     "execution_count": 67,
     "metadata": {},
     "output_type": "execute_result"
    }
   ],
   "source": [
    "data['sentiment'] = data['Reviews'].apply(lambda x: TextBlob(x).sentiment[0] )\n",
    "data[['Reviews','sentiment']].head()"
   ]
  },
  {
   "cell_type": "markdown",
   "id": "9a8ee2bf",
   "metadata": {},
   "source": [
    "# Word Embeddings\n",
    "Word Embedding is the representation of text in the form of vectors. The underlying idea here is that similar words will have a minimum distance between their vectors.\n",
    "\n",
    "Word2Vec models require a lot of text, so either we can train it on our training data or we can use the pre-trained word vectors developed by Google, Wiki, etc."
   ]
  },
  {
   "cell_type": "code",
   "execution_count": 69,
   "id": "cb5cc74c",
   "metadata": {},
   "outputs": [
    {
     "name": "stdout",
     "output_type": "stream",
     "text": [
      "Note: you may need to restart the kernel to use updated packages.Collecting gensim\n",
      "\n",
      "  Downloading gensim-4.2.0-cp39-cp39-win_amd64.whl (23.9 MB)\n",
      "Collecting Cython==0.29.28\n",
      "  Downloading Cython-0.29.28-py2.py3-none-any.whl (983 kB)\n",
      "Collecting smart-open>=1.8.1\n",
      "  Downloading smart_open-6.0.0-py3-none-any.whl (58 kB)\n",
      "Requirement already satisfied: numpy>=1.17.0 in c:\\users\\lenovo\\anaconda3\\lib\\site-packages (from gensim) (1.20.3)\n",
      "Requirement already satisfied: scipy>=0.18.1 in c:\\users\\lenovo\\anaconda3\\lib\\site-packages (from gensim) (1.6.0)\n",
      "Installing collected packages: smart-open, Cython, gensim\n",
      "  Attempting uninstall: Cython\n",
      "    Found existing installation: Cython 0.29.24\n",
      "    Uninstalling Cython-0.29.24:\n",
      "      Successfully uninstalled Cython-0.29.24\n",
      "Successfully installed Cython-0.29.28 gensim-4.2.0 smart-open-6.0.0\n"
     ]
    }
   ],
   "source": [
    "pip install gensim"
   ]
  },
  {
   "cell_type": "code",
   "execution_count": 70,
   "id": "71147f5a",
   "metadata": {},
   "outputs": [],
   "source": [
    "from gensim.scripts.glove2word2vec import glove2word2vec\n",
    "from gensim.test.utils import datapath, get_tmpfile\n",
    "from gensim.models import KeyedVectors\n",
    "from gensim.scripts.glove2word2vec import glove2word2vec"
   ]
  },
  {
   "cell_type": "code",
   "execution_count": 84,
   "id": "d1fc665f",
   "metadata": {},
   "outputs": [
    {
     "data": {
      "text/html": [
       "<div>\n",
       "<style scoped>\n",
       "    .dataframe tbody tr th:only-of-type {\n",
       "        vertical-align: middle;\n",
       "    }\n",
       "\n",
       "    .dataframe tbody tr th {\n",
       "        vertical-align: top;\n",
       "    }\n",
       "\n",
       "    .dataframe thead th {\n",
       "        text-align: right;\n",
       "    }\n",
       "</style>\n",
       "<table border=\"1\" class=\"dataframe\">\n",
       "  <thead>\n",
       "    <tr style=\"text-align: right;\">\n",
       "      <th></th>\n",
       "      <th>Reviews</th>\n",
       "      <th>polarity</th>\n",
       "    </tr>\n",
       "  </thead>\n",
       "  <tbody>\n",
       "    <tr>\n",
       "      <th>0</th>\n",
       "      <td>duplicate design changed low buy samsung mobile</td>\n",
       "      <td>0.000000</td>\n",
       "    </tr>\n",
       "    <tr>\n",
       "      <th>1</th>\n",
       "      <td>hairline scratch screen clearly visible direct...</td>\n",
       "      <td>-0.033333</td>\n",
       "    </tr>\n",
       "    <tr>\n",
       "      <th>2</th>\n",
       "      <td>bigggggg bot buy phoneyou could get pro thats</td>\n",
       "      <td>0.000000</td>\n",
       "    </tr>\n",
       "    <tr>\n",
       "      <th>3</th>\n",
       "      <td>it worth moneyunless ur bjp something youre fu...</td>\n",
       "      <td>0.050000</td>\n",
       "    </tr>\n",
       "    <tr>\n",
       "      <th>4</th>\n",
       "      <td>poor cant afford lmao xdxdxdxdxd money flex bu...</td>\n",
       "      <td>-0.200000</td>\n",
       "    </tr>\n",
       "  </tbody>\n",
       "</table>\n",
       "</div>"
      ],
      "text/plain": [
       "                                             Reviews  polarity\n",
       "0    duplicate design changed low buy samsung mobile  0.000000\n",
       "1  hairline scratch screen clearly visible direct... -0.033333\n",
       "2      bigggggg bot buy phoneyou could get pro thats  0.000000\n",
       "3  it worth moneyunless ur bjp something youre fu...  0.050000\n",
       "4  poor cant afford lmao xdxdxdxdxd money flex bu... -0.200000"
      ]
     },
     "execution_count": 84,
     "metadata": {},
     "output_type": "execute_result"
    }
   ],
   "source": [
    "from textblob import TextBlob\n",
    "data['polarity'] = data['Reviews'].apply(lambda x: TextBlob(x).sentiment[0])\n",
    "data[['Reviews','polarity']].head(5)"
   ]
  },
  {
   "cell_type": "code",
   "execution_count": 85,
   "id": "2bb7b476",
   "metadata": {},
   "outputs": [
    {
     "data": {
      "text/html": [
       "<div>\n",
       "<style scoped>\n",
       "    .dataframe tbody tr th:only-of-type {\n",
       "        vertical-align: middle;\n",
       "    }\n",
       "\n",
       "    .dataframe tbody tr th {\n",
       "        vertical-align: top;\n",
       "    }\n",
       "\n",
       "    .dataframe thead th {\n",
       "        text-align: right;\n",
       "    }\n",
       "</style>\n",
       "<table border=\"1\" class=\"dataframe\">\n",
       "  <thead>\n",
       "    <tr style=\"text-align: right;\">\n",
       "      <th></th>\n",
       "      <th>Rating</th>\n",
       "      <th>Reviews</th>\n",
       "      <th>sentiment</th>\n",
       "      <th>polarity</th>\n",
       "    </tr>\n",
       "  </thead>\n",
       "  <tbody>\n",
       "    <tr>\n",
       "      <th>3</th>\n",
       "      <td>1.0</td>\n",
       "      <td>it worth moneyunless ur bjp something youre fu...</td>\n",
       "      <td>0.050000</td>\n",
       "      <td>0.050000</td>\n",
       "    </tr>\n",
       "    <tr>\n",
       "      <th>5</th>\n",
       "      <td>1.0</td>\n",
       "      <td>medium could loaded switched android iosthere ...</td>\n",
       "      <td>0.472222</td>\n",
       "      <td>0.472222</td>\n",
       "    </tr>\n",
       "    <tr>\n",
       "      <th>6</th>\n",
       "      <td>5.0</td>\n",
       "      <td>honest review going broke buying depreciating ...</td>\n",
       "      <td>0.098571</td>\n",
       "      <td>0.098571</td>\n",
       "    </tr>\n",
       "    <tr>\n",
       "      <th>10</th>\n",
       "      <td>3.0</td>\n",
       "      <td>marketing done quite job month month keep peop...</td>\n",
       "      <td>0.287835</td>\n",
       "      <td>0.287835</td>\n",
       "    </tr>\n",
       "    <tr>\n",
       "      <th>11</th>\n",
       "      <td>5.0</td>\n",
       "      <td>got beautiful machine really happy issue backu...</td>\n",
       "      <td>0.365427</td>\n",
       "      <td>0.365427</td>\n",
       "    </tr>\n",
       "  </tbody>\n",
       "</table>\n",
       "</div>"
      ],
      "text/plain": [
       "   Rating                                            Reviews  sentiment  \\\n",
       "3     1.0  it worth moneyunless ur bjp something youre fu...   0.050000   \n",
       "5     1.0  medium could loaded switched android iosthere ...   0.472222   \n",
       "6     5.0  honest review going broke buying depreciating ...   0.098571   \n",
       "10    3.0  marketing done quite job month month keep peop...   0.287835   \n",
       "11    5.0  got beautiful machine really happy issue backu...   0.365427   \n",
       "\n",
       "    polarity  \n",
       "3   0.050000  \n",
       "5   0.472222  \n",
       "6   0.098571  \n",
       "10  0.287835  \n",
       "11  0.365427  "
      ]
     },
     "execution_count": 85,
     "metadata": {},
     "output_type": "execute_result"
    }
   ],
   "source": [
    "# Displaying top 5 positive posts of Category_A\n",
    "data[data.polarity>0].head(5)"
   ]
  },
  {
   "cell_type": "code",
   "execution_count": 86,
   "id": "72cf22e6",
   "metadata": {},
   "outputs": [],
   "source": [
    "def sent_type(text): \n",
    "    for i in (text):\n",
    "        if i>0:\n",
    "            print('positive')\n",
    "        elif i==0:\n",
    "            print('neutral')\n",
    "        else:\n",
    "            print('negative')"
   ]
  },
  {
   "cell_type": "code",
   "execution_count": 87,
   "id": "0ba8a6a1",
   "metadata": {},
   "outputs": [
    {
     "name": "stdout",
     "output_type": "stream",
     "text": [
      "neutral\n",
      "negative\n",
      "neutral\n",
      "positive\n",
      "negative\n",
      "positive\n",
      "positive\n",
      "neutral\n",
      "neutral\n",
      "neutral\n",
      "positive\n",
      "positive\n",
      "positive\n",
      "positive\n",
      "positive\n",
      "positive\n",
      "negative\n",
      "positive\n",
      "positive\n",
      "positive\n",
      "negative\n",
      "positive\n",
      "positive\n",
      "negative\n",
      "negative\n",
      "positive\n",
      "neutral\n",
      "positive\n",
      "neutral\n",
      "positive\n",
      "positive\n",
      "positive\n",
      "negative\n",
      "positive\n",
      "positive\n",
      "positive\n",
      "positive\n",
      "neutral\n",
      "neutral\n",
      "neutral\n",
      "neutral\n",
      "negative\n",
      "neutral\n",
      "negative\n",
      "neutral\n",
      "negative\n",
      "positive\n",
      "positive\n",
      "positive\n",
      "positive\n",
      "neutral\n",
      "positive\n",
      "positive\n",
      "negative\n",
      "neutral\n",
      "neutral\n",
      "positive\n",
      "negative\n",
      "positive\n",
      "positive\n",
      "positive\n",
      "neutral\n",
      "positive\n",
      "positive\n",
      "neutral\n",
      "positive\n",
      "positive\n",
      "positive\n",
      "positive\n",
      "positive\n",
      "positive\n",
      "positive\n",
      "positive\n",
      "positive\n",
      "positive\n",
      "positive\n",
      "neutral\n",
      "positive\n",
      "positive\n",
      "positive\n",
      "positive\n",
      "positive\n",
      "positive\n",
      "positive\n",
      "positive\n",
      "negative\n",
      "positive\n",
      "positive\n",
      "positive\n",
      "positive\n",
      "positive\n",
      "positive\n",
      "neutral\n",
      "positive\n",
      "positive\n",
      "neutral\n",
      "positive\n",
      "neutral\n",
      "positive\n",
      "positive\n",
      "positive\n",
      "positive\n",
      "positive\n",
      "positive\n",
      "positive\n",
      "positive\n",
      "positive\n",
      "positive\n",
      "positive\n",
      "positive\n",
      "positive\n",
      "positive\n",
      "positive\n",
      "positive\n",
      "positive\n",
      "positive\n",
      "negative\n",
      "negative\n",
      "positive\n",
      "positive\n",
      "negative\n",
      "neutral\n",
      "neutral\n",
      "positive\n",
      "positive\n",
      "negative\n",
      "positive\n",
      "positive\n",
      "positive\n",
      "positive\n",
      "positive\n",
      "positive\n",
      "positive\n",
      "positive\n",
      "negative\n",
      "positive\n",
      "positive\n",
      "positive\n",
      "positive\n",
      "positive\n",
      "positive\n",
      "positive\n",
      "positive\n",
      "positive\n",
      "negative\n",
      "positive\n",
      "positive\n",
      "positive\n",
      "positive\n",
      "positive\n",
      "negative\n",
      "positive\n",
      "neutral\n",
      "positive\n",
      "negative\n",
      "positive\n",
      "negative\n",
      "positive\n",
      "positive\n",
      "positive\n",
      "positive\n",
      "positive\n",
      "positive\n",
      "positive\n",
      "positive\n",
      "positive\n",
      "positive\n",
      "neutral\n",
      "positive\n",
      "negative\n",
      "positive\n",
      "positive\n",
      "negative\n",
      "positive\n",
      "positive\n",
      "positive\n",
      "negative\n",
      "positive\n",
      "positive\n",
      "positive\n",
      "neutral\n",
      "positive\n",
      "positive\n",
      "neutral\n",
      "positive\n",
      "negative\n",
      "positive\n",
      "positive\n",
      "negative\n",
      "positive\n",
      "positive\n",
      "positive\n",
      "neutral\n",
      "positive\n",
      "neutral\n",
      "positive\n",
      "positive\n",
      "positive\n",
      "positive\n",
      "negative\n",
      "positive\n",
      "negative\n",
      "positive\n",
      "negative\n",
      "positive\n",
      "positive\n",
      "positive\n",
      "positive\n",
      "neutral\n",
      "positive\n",
      "negative\n",
      "neutral\n",
      "positive\n",
      "positive\n",
      "positive\n",
      "positive\n",
      "positive\n",
      "neutral\n",
      "neutral\n",
      "positive\n",
      "neutral\n",
      "positive\n",
      "neutral\n",
      "positive\n",
      "positive\n",
      "positive\n",
      "positive\n",
      "negative\n",
      "positive\n",
      "positive\n",
      "neutral\n",
      "neutral\n",
      "positive\n",
      "positive\n",
      "neutral\n",
      "positive\n",
      "positive\n",
      "positive\n",
      "positive\n",
      "positive\n",
      "positive\n",
      "positive\n",
      "positive\n",
      "positive\n",
      "positive\n",
      "positive\n",
      "neutral\n",
      "positive\n",
      "positive\n",
      "neutral\n",
      "neutral\n",
      "positive\n",
      "neutral\n",
      "positive\n",
      "positive\n",
      "positive\n",
      "positive\n",
      "negative\n",
      "positive\n",
      "neutral\n",
      "positive\n",
      "positive\n",
      "positive\n",
      "positive\n",
      "positive\n",
      "positive\n",
      "negative\n",
      "positive\n",
      "positive\n",
      "positive\n",
      "positive\n",
      "positive\n",
      "positive\n",
      "positive\n",
      "positive\n",
      "neutral\n",
      "positive\n",
      "negative\n",
      "negative\n",
      "positive\n",
      "positive\n",
      "neutral\n",
      "negative\n",
      "positive\n",
      "positive\n",
      "positive\n",
      "neutral\n",
      "positive\n",
      "neutral\n",
      "neutral\n",
      "positive\n",
      "negative\n",
      "positive\n",
      "positive\n",
      "positive\n",
      "positive\n",
      "positive\n",
      "neutral\n",
      "positive\n",
      "positive\n",
      "positive\n",
      "negative\n",
      "neutral\n",
      "positive\n",
      "negative\n",
      "neutral\n",
      "neutral\n",
      "positive\n",
      "positive\n",
      "positive\n",
      "positive\n",
      "positive\n",
      "negative\n",
      "positive\n",
      "positive\n",
      "neutral\n",
      "positive\n",
      "neutral\n",
      "positive\n",
      "positive\n",
      "positive\n",
      "neutral\n",
      "positive\n",
      "neutral\n",
      "positive\n",
      "negative\n",
      "positive\n",
      "positive\n",
      "neutral\n",
      "positive\n",
      "positive\n",
      "positive\n",
      "positive\n",
      "positive\n",
      "positive\n",
      "positive\n",
      "positive\n",
      "positive\n",
      "positive\n",
      "positive\n",
      "neutral\n",
      "positive\n",
      "positive\n",
      "negative\n",
      "neutral\n",
      "positive\n",
      "neutral\n",
      "negative\n",
      "neutral\n",
      "positive\n",
      "positive\n",
      "positive\n",
      "positive\n",
      "negative\n",
      "positive\n",
      "neutral\n",
      "positive\n",
      "neutral\n",
      "neutral\n",
      "positive\n",
      "positive\n",
      "neutral\n",
      "neutral\n",
      "neutral\n",
      "positive\n",
      "positive\n",
      "neutral\n",
      "negative\n",
      "positive\n",
      "positive\n",
      "neutral\n",
      "neutral\n",
      "negative\n",
      "neutral\n",
      "positive\n",
      "neutral\n",
      "neutral\n",
      "positive\n",
      "positive\n",
      "neutral\n",
      "neutral\n",
      "positive\n",
      "neutral\n",
      "positive\n",
      "positive\n",
      "positive\n",
      "positive\n",
      "negative\n",
      "neutral\n",
      "positive\n",
      "positive\n",
      "positive\n",
      "positive\n",
      "positive\n",
      "negative\n",
      "positive\n",
      "negative\n",
      "positive\n",
      "neutral\n",
      "neutral\n",
      "positive\n",
      "positive\n",
      "positive\n",
      "positive\n",
      "positive\n",
      "neutral\n",
      "positive\n",
      "positive\n",
      "neutral\n",
      "positive\n",
      "neutral\n",
      "positive\n",
      "positive\n",
      "positive\n",
      "positive\n",
      "positive\n",
      "neutral\n",
      "positive\n",
      "positive\n",
      "positive\n",
      "positive\n",
      "positive\n",
      "neutral\n",
      "positive\n",
      "positive\n",
      "positive\n",
      "positive\n",
      "neutral\n",
      "positive\n",
      "neutral\n",
      "positive\n",
      "neutral\n",
      "positive\n",
      "positive\n",
      "neutral\n",
      "neutral\n",
      "neutral\n",
      "negative\n",
      "negative\n",
      "neutral\n",
      "neutral\n",
      "positive\n",
      "positive\n",
      "neutral\n",
      "neutral\n",
      "positive\n",
      "positive\n",
      "positive\n",
      "neutral\n",
      "neutral\n",
      "neutral\n",
      "positive\n",
      "positive\n",
      "positive\n",
      "positive\n",
      "positive\n",
      "positive\n",
      "positive\n",
      "positive\n",
      "neutral\n",
      "positive\n",
      "positive\n",
      "neutral\n",
      "neutral\n",
      "neutral\n",
      "positive\n",
      "positive\n",
      "positive\n",
      "positive\n",
      "positive\n",
      "positive\n",
      "neutral\n",
      "neutral\n",
      "positive\n",
      "positive\n",
      "neutral\n",
      "negative\n",
      "positive\n",
      "positive\n",
      "positive\n",
      "neutral\n",
      "positive\n",
      "neutral\n",
      "neutral\n",
      "positive\n",
      "positive\n",
      "positive\n",
      "positive\n",
      "neutral\n",
      "positive\n",
      "positive\n",
      "neutral\n",
      "neutral\n",
      "neutral\n",
      "positive\n",
      "negative\n",
      "negative\n",
      "positive\n",
      "positive\n",
      "negative\n",
      "positive\n",
      "positive\n",
      "positive\n",
      "neutral\n",
      "positive\n",
      "positive\n",
      "neutral\n",
      "positive\n",
      "positive\n",
      "positive\n",
      "neutral\n",
      "negative\n",
      "neutral\n",
      "positive\n",
      "positive\n",
      "positive\n",
      "positive\n",
      "positive\n",
      "positive\n",
      "neutral\n",
      "positive\n",
      "positive\n",
      "positive\n",
      "positive\n",
      "positive\n",
      "neutral\n",
      "neutral\n",
      "neutral\n",
      "positive\n",
      "negative\n",
      "positive\n",
      "neutral\n",
      "positive\n",
      "positive\n",
      "neutral\n",
      "neutral\n",
      "positive\n",
      "neutral\n",
      "neutral\n",
      "negative\n",
      "positive\n",
      "negative\n",
      "neutral\n",
      "positive\n",
      "positive\n",
      "neutral\n",
      "positive\n",
      "positive\n",
      "positive\n",
      "positive\n",
      "positive\n",
      "positive\n",
      "neutral\n",
      "neutral\n",
      "positive\n",
      "negative\n",
      "positive\n",
      "positive\n",
      "neutral\n",
      "neutral\n",
      "positive\n",
      "neutral\n",
      "positive\n",
      "positive\n",
      "neutral\n",
      "positive\n",
      "positive\n",
      "positive\n",
      "positive\n",
      "neutral\n",
      "neutral\n",
      "positive\n",
      "positive\n",
      "neutral\n",
      "neutral\n",
      "positive\n",
      "neutral\n",
      "positive\n",
      "positive\n",
      "positive\n",
      "positive\n",
      "positive\n",
      "positive\n",
      "positive\n",
      "neutral\n",
      "positive\n",
      "neutral\n",
      "positive\n",
      "positive\n",
      "positive\n",
      "neutral\n",
      "neutral\n",
      "neutral\n",
      "positive\n",
      "positive\n",
      "neutral\n",
      "neutral\n",
      "neutral\n",
      "neutral\n",
      "neutral\n",
      "positive\n",
      "positive\n",
      "positive\n",
      "neutral\n",
      "neutral\n",
      "positive\n",
      "positive\n",
      "neutral\n",
      "neutral\n",
      "neutral\n",
      "positive\n",
      "positive\n",
      "positive\n",
      "neutral\n",
      "neutral\n",
      "neutral\n",
      "positive\n",
      "neutral\n",
      "positive\n",
      "neutral\n",
      "positive\n",
      "positive\n",
      "positive\n",
      "positive\n",
      "positive\n",
      "neutral\n",
      "neutral\n",
      "neutral\n",
      "neutral\n",
      "positive\n",
      "neutral\n",
      "positive\n",
      "neutral\n",
      "positive\n",
      "neutral\n",
      "positive\n",
      "positive\n",
      "positive\n",
      "neutral\n",
      "neutral\n",
      "positive\n",
      "neutral\n",
      "positive\n",
      "neutral\n",
      "positive\n",
      "positive\n",
      "positive\n",
      "neutral\n",
      "neutral\n",
      "neutral\n",
      "positive\n",
      "positive\n",
      "neutral\n",
      "neutral\n",
      "positive\n",
      "negative\n",
      "positive\n",
      "positive\n",
      "neutral\n",
      "neutral\n",
      "positive\n",
      "positive\n",
      "neutral\n",
      "positive\n",
      "neutral\n",
      "neutral\n",
      "neutral\n",
      "positive\n",
      "neutral\n",
      "neutral\n",
      "negative\n",
      "neutral\n",
      "positive\n",
      "neutral\n",
      "neutral\n",
      "positive\n",
      "positive\n",
      "positive\n",
      "positive\n",
      "positive\n",
      "positive\n",
      "positive\n",
      "neutral\n",
      "positive\n",
      "neutral\n",
      "positive\n",
      "positive\n",
      "positive\n",
      "neutral\n",
      "positive\n",
      "positive\n",
      "positive\n",
      "neutral\n",
      "positive\n",
      "positive\n",
      "positive\n",
      "neutral\n",
      "positive\n",
      "neutral\n",
      "neutral\n",
      "neutral\n",
      "neutral\n",
      "positive\n",
      "neutral\n",
      "neutral\n",
      "positive\n",
      "negative\n",
      "positive\n",
      "positive\n",
      "negative\n",
      "positive\n",
      "positive\n",
      "positive\n",
      "positive\n",
      "positive\n",
      "negative\n",
      "positive\n",
      "positive\n",
      "neutral\n",
      "positive\n",
      "positive\n",
      "positive\n",
      "positive\n",
      "positive\n",
      "positive\n",
      "positive\n",
      "negative\n",
      "positive\n",
      "positive\n",
      "positive\n",
      "positive\n",
      "positive\n",
      "negative\n",
      "positive\n",
      "positive\n",
      "positive\n",
      "positive\n",
      "positive\n",
      "neutral\n",
      "negative\n",
      "positive\n",
      "positive\n",
      "positive\n",
      "positive\n",
      "neutral\n",
      "positive\n",
      "positive\n",
      "positive\n",
      "neutral\n",
      "negative\n",
      "negative\n",
      "positive\n",
      "positive\n",
      "neutral\n",
      "neutral\n",
      "positive\n",
      "neutral\n",
      "positive\n",
      "neutral\n",
      "positive\n",
      "positive\n",
      "negative\n",
      "negative\n",
      "negative\n",
      "positive\n",
      "positive\n",
      "positive\n",
      "neutral\n",
      "positive\n",
      "positive\n",
      "positive\n",
      "positive\n",
      "negative\n",
      "positive\n",
      "positive\n",
      "positive\n",
      "neutral\n",
      "positive\n",
      "neutral\n",
      "positive\n",
      "positive\n",
      "neutral\n",
      "positive\n",
      "positive\n",
      "positive\n",
      "negative\n",
      "positive\n",
      "neutral\n",
      "neutral\n",
      "positive\n",
      "positive\n",
      "positive\n",
      "neutral\n",
      "neutral\n",
      "positive\n",
      "neutral\n",
      "positive\n",
      "neutral\n",
      "positive\n",
      "positive\n",
      "negative\n",
      "neutral\n",
      "negative\n",
      "positive\n",
      "positive\n",
      "positive\n",
      "positive\n",
      "neutral\n",
      "positive\n",
      "positive\n",
      "positive\n",
      "positive\n",
      "neutral\n",
      "neutral\n",
      "negative\n",
      "neutral\n",
      "positive\n",
      "positive\n",
      "positive\n",
      "negative\n",
      "neutral\n",
      "positive\n",
      "positive\n",
      "negative\n",
      "positive\n",
      "negative\n",
      "positive\n",
      "positive\n",
      "positive\n",
      "positive\n",
      "positive\n",
      "negative\n",
      "neutral\n",
      "positive\n",
      "positive\n",
      "positive\n",
      "positive\n",
      "positive\n",
      "positive\n",
      "positive\n",
      "positive\n",
      "positive\n",
      "positive\n",
      "positive\n",
      "positive\n",
      "positive\n",
      "positive\n",
      "positive\n",
      "positive\n",
      "positive\n",
      "positive\n",
      "positive\n",
      "positive\n",
      "positive\n",
      "positive\n",
      "neutral\n",
      "positive\n",
      "neutral\n",
      "positive\n",
      "neutral\n",
      "negative\n",
      "positive\n",
      "positive\n",
      "neutral\n",
      "positive\n",
      "neutral\n",
      "negative\n",
      "positive\n",
      "neutral\n",
      "neutral\n",
      "negative\n",
      "neutral\n",
      "positive\n",
      "positive\n",
      "positive\n",
      "neutral\n",
      "neutral\n",
      "positive\n",
      "positive\n",
      "positive\n",
      "positive\n",
      "neutral\n",
      "negative\n",
      "neutral\n",
      "positive\n",
      "positive\n",
      "positive\n",
      "positive\n",
      "positive\n",
      "positive\n",
      "negative\n",
      "positive\n",
      "positive\n",
      "positive\n",
      "negative\n",
      "positive\n",
      "positive\n",
      "positive\n",
      "positive\n",
      "positive\n",
      "positive\n",
      "positive\n",
      "positive\n",
      "positive\n",
      "neutral\n",
      "neutral\n",
      "neutral\n",
      "positive\n"
     ]
    }
   ],
   "source": [
    "sent_type(data['polarity'])"
   ]
  },
  {
   "cell_type": "code",
   "execution_count": null,
   "id": "91f1f986",
   "metadata": {},
   "outputs": [],
   "source": []
  }
 ],
 "metadata": {
  "kernelspec": {
   "display_name": "Python 3 (ipykernel)",
   "language": "python",
   "name": "python3"
  },
  "language_info": {
   "codemirror_mode": {
    "name": "ipython",
    "version": 3
   },
   "file_extension": ".py",
   "mimetype": "text/x-python",
   "name": "python",
   "nbconvert_exporter": "python",
   "pygments_lexer": "ipython3",
   "version": "3.9.7"
  }
 },
 "nbformat": 4,
 "nbformat_minor": 5
}
